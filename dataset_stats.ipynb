{
 "cells": [
  {
   "cell_type": "code",
   "execution_count": null,
   "metadata": {},
   "outputs": [],
   "source": [
    "import pandas as pd"
   ]
  },
  {
   "cell_type": "code",
   "execution_count": null,
   "metadata": {},
   "outputs": [],
   "source": [
    "csv = pd.read_csv(\"../ventilzielaufnahmen_mit_pid.csv\")\n",
    "csv[\"fn\"] = [\"../jpegs_same_contrast_cropped/\" + x.split(\"/\")[-1].split(\"-\")[-1] for x in csv.image]\n",
    "csv = csv.loc[csv[\"choice\"].isin([\"Codman Hakim\", \"Codman Certas Plus\", \"Sophysa Sophy SM8\", \"proGAV 2.0\"])]"
   ]
  },
  {
   "cell_type": "code",
   "execution_count": null,
   "metadata": {},
   "outputs": [],
   "source": [
    "# percentage of patients with more than one image\n",
    "sum(csv.pid.value_counts() > 1) / len(csv.pid.unique())"
   ]
  },
  {
   "cell_type": "code",
   "execution_count": null,
   "metadata": {},
   "outputs": [],
   "source": [
    "# patients with more than one image as well as total number of patients\n",
    "sum(csv.pid.value_counts() > 1), len(csv.pid.unique())"
   ]
  },
  {
   "cell_type": "code",
   "execution_count": null,
   "metadata": {},
   "outputs": [],
   "source": [
    "metadata = pd.read_csv(\"../metadata/vps_metadata.csv\")"
   ]
  },
  {
   "cell_type": "code",
   "execution_count": null,
   "metadata": {},
   "outputs": [],
   "source": [
    "csv[\"fn\"] = [x.split(\"/\")[-1].split(\"-\")[-1][:-5] for x in csv.image]"
   ]
  },
  {
   "cell_type": "code",
   "execution_count": null,
   "metadata": {},
   "outputs": [],
   "source": [
    "merged = csv.merge(metadata, left_on=\"fn\", right_on=\"fn\", how=\"left\")"
   ]
  },
  {
   "cell_type": "code",
   "execution_count": null,
   "metadata": {},
   "outputs": [],
   "source": [
    "# filter the merged df down to only the unique pids\n",
    "unique_pids = merged.drop_duplicates(subset=\"pid\")\n",
    "# get the sex of the patients\n",
    "unique_pids.sex.value_counts(), unique_pids.sex.value_counts(normalize=True)"
   ]
  },
  {
   "cell_type": "code",
   "execution_count": null,
   "metadata": {},
   "outputs": [],
   "source": [
    "# age mean and standard deviation\n",
    "unique_pids.age_at_exam.mean(), unique_pids.age_at_exam.std()"
   ]
  }
 ],
 "metadata": {
  "kernelspec": {
   "display_name": ".venv",
   "language": "python",
   "name": "python3"
  },
  "language_info": {
   "codemirror_mode": {
    "name": "ipython",
    "version": 3
   },
   "file_extension": ".py",
   "mimetype": "text/x-python",
   "name": "python",
   "nbconvert_exporter": "python",
   "pygments_lexer": "ipython3",
   "version": "3.10.12"
  }
 },
 "nbformat": 4,
 "nbformat_minor": 2
}
